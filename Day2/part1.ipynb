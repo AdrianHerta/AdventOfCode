{
 "cells": [
  {
   "cell_type": "code",
   "execution_count": 23,
   "metadata": {},
   "outputs": [],
   "source": [
    "with open('./input.txt') as f:\n",
    "    lines = f.readlines()"
   ]
  },
  {
   "cell_type": "code",
   "execution_count": 11,
   "metadata": {},
   "outputs": [],
   "source": [
    "lines = [\n",
    "    \"Game 1: 3 blue, 4 red; 1 red, 2 green, 6 blue; 2 green\",\n",
    "    \"Game 2: 1 blue, 2 green; 3 green, 4 blue, 1 red; 1 green, 1 blue\",\n",
    "    \"Game 3: 8 green, 6 blue, 20 red; 5 blue, 4 red, 13 green; 5 green, 1 red\",\n",
    "    \"Game 4: 1 green, 3 red, 6 blue; 3 green, 6 red; 3 green, 15 blue, 14 red\",\n",
    "    \"Game 5: 6 red, 1 blue, 3 green; 2 blue, 1 red, 2 green\"\n",
    "]"
   ]
  },
  {
   "cell_type": "code",
   "execution_count": 24,
   "metadata": {},
   "outputs": [
    {
     "data": {
      "text/plain": [
       "['1: 2 green, 12 blue; 6 red, 6 blue; 8 blue, 5 green, 5 red; 5 green, 13 blue; 3 green, 7 red, 10 blue; 13 blue, 8 red\\n',\n",
       " '2: 1 green, 7 red; 1 green, 9 red, 3 blue; 4 blue, 5 red\\n',\n",
       " '3: 2 red, 2 blue, 6 green; 1 blue, 2 red, 2 green; 3 blue, 3 green\\n',\n",
       " '4: 8 green, 16 red, 7 blue; 1 red, 7 blue, 12 green; 8 green, 14 red, 1 blue; 6 blue, 9 green, 12 red; 9 red, 2 green; 8 red, 7 blue, 17 green\\n',\n",
       " '5: 2 red, 7 green; 2 red, 1 green, 4 blue; 4 blue, 7 green, 5 red; 8 red, 2 blue, 5 green\\n']"
      ]
     },
     "execution_count": 24,
     "metadata": {},
     "output_type": "execute_result"
    }
   ],
   "source": [
    "lines = [line.replace('Game ', '') for line in lines]\n",
    "lines[:5]"
   ]
  },
  {
   "cell_type": "code",
   "execution_count": 25,
   "metadata": {},
   "outputs": [
    {
     "data": {
      "text/plain": [
       "[['1',\n",
       "  ' 2 green, 12 blue; 6 red, 6 blue; 8 blue, 5 green, 5 red; 5 green, 13 blue; 3 green, 7 red, 10 blue; 13 blue, 8 red\\n'],\n",
       " ['2', ' 1 green, 7 red; 1 green, 9 red, 3 blue; 4 blue, 5 red\\n'],\n",
       " ['3', ' 2 red, 2 blue, 6 green; 1 blue, 2 red, 2 green; 3 blue, 3 green\\n'],\n",
       " ['4',\n",
       "  ' 8 green, 16 red, 7 blue; 1 red, 7 blue, 12 green; 8 green, 14 red, 1 blue; 6 blue, 9 green, 12 red; 9 red, 2 green; 8 red, 7 blue, 17 green\\n'],\n",
       " ['5',\n",
       "  ' 2 red, 7 green; 2 red, 1 green, 4 blue; 4 blue, 7 green, 5 red; 8 red, 2 blue, 5 green\\n']]"
      ]
     },
     "execution_count": 25,
     "metadata": {},
     "output_type": "execute_result"
    }
   ],
   "source": [
    "splitLines = [line.split(':') for line in lines]\n",
    "splitLines[:5]"
   ]
  },
  {
   "cell_type": "code",
   "execution_count": 26,
   "metadata": {},
   "outputs": [],
   "source": [
    "import re\n",
    "\n",
    "gamesDict = {line[0]: re.findall(\n",
    "    r'(?=(\\d+ green| \\d+ blue| \\d+ red))', line[1]) for line in splitLines}\n",
    "# gamesDict"
   ]
  },
  {
   "cell_type": "code",
   "execution_count": 27,
   "metadata": {},
   "outputs": [],
   "source": [
    "idSum = 0\n",
    "for id, cubes in gamesDict.items():\n",
    "    reds = [item for item in cubes if item.find('red') != -1]\n",
    "    quants = [re.findall(r'(\\d+)', string) for string in reds]\n",
    "    quants = [int(n) for cell in quants for n in cell]\n",
    "    if len([n for n in quants if n > 12]) != 0:\n",
    "        continue\n",
    "\n",
    "    greens = [item for item in cubes if item.find('green') != -1]\n",
    "    quants = [(re.findall(r'(\\d+)', string)) for string in greens]\n",
    "    quants = [int(n) for cell in quants for n in cell]\n",
    "\n",
    "    if len([n for n in quants if n > 13]) != 0:\n",
    "        continue\n",
    "    blues = [item for item in cubes if item.find('blue') != -1]\n",
    "    quants = [re.findall(r'(\\d+)', string) for string in blues]\n",
    "    quants = [int(n) for cell in quants for n in cell]\n",
    "\n",
    "    if len([n for n in quants if n > 14]) != 0:\n",
    "        continue\n",
    "\n",
    "    idSum += int(id)"
   ]
  },
  {
   "cell_type": "code",
   "execution_count": 28,
   "metadata": {},
   "outputs": [
    {
     "data": {
      "text/plain": [
       "2771"
      ]
     },
     "execution_count": 28,
     "metadata": {},
     "output_type": "execute_result"
    }
   ],
   "source": [
    "idSum"
   ]
  }
 ],
 "metadata": {
  "kernelspec": {
   "display_name": "Python 3",
   "language": "python",
   "name": "python3"
  },
  "language_info": {
   "codemirror_mode": {
    "name": "ipython",
    "version": 3
   },
   "file_extension": ".py",
   "mimetype": "text/x-python",
   "name": "python",
   "nbconvert_exporter": "python",
   "pygments_lexer": "ipython3",
   "version": "3.11.1"
  }
 },
 "nbformat": 4,
 "nbformat_minor": 2
}
