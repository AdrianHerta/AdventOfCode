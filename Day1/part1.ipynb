{
 "cells": [
  {
   "cell_type": "code",
   "execution_count": 69,
   "metadata": {},
   "outputs": [
    {
     "data": {
      "text/plain": [
       "['tsgbzmgbonethreedrqzbhxjkvcnm3\\n',\n",
       " '7qlpsnhbmnconeeight78\\n',\n",
       " 'prbqsfzqn57\\n',\n",
       " 'ctrv3hmvjphrffktwothree\\n',\n",
       " '9six9qbgcvljfvccdjslspprgonenine\\n']"
      ]
     },
     "execution_count": 69,
     "metadata": {},
     "output_type": "execute_result"
    }
   ],
   "source": [
    "with open('./input.txt') as f:\n",
    "    lines = f.readlines()\n",
    "\n",
    "lines[:5]"
   ]
  },
  {
   "cell_type": "code",
   "execution_count": null,
   "metadata": {},
   "outputs": [],
   "source": [
    "# turn each line into a list of digits in that line\n",
    "digitsPerLine = list(\n",
    "    map(lambda line: [val for val in list(line) if val.isdigit() == True], lines))\n",
    "digitsPerLine[:5]"
   ]
  },
  {
   "cell_type": "code",
   "execution_count": null,
   "metadata": {},
   "outputs": [],
   "source": [
    "# take the first and last digits of each line, concat them to make a (numeric) string and cast it to int\n",
    "valuesPerLine = [int(line[0] + line[-1]) for line in digitsPerLine]\n",
    "valuesPerLine[:5]"
   ]
  },
  {
   "cell_type": "code",
   "execution_count": 72,
   "metadata": {},
   "outputs": [
    {
     "data": {
      "text/plain": [
       "55002"
      ]
     },
     "execution_count": 72,
     "metadata": {},
     "output_type": "execute_result"
    }
   ],
   "source": [
    "# sum of values for each line\n",
    "totalSum = sum(valuesPerLine)\n",
    "totalSum"
   ]
  }
 ],
 "metadata": {
  "kernelspec": {
   "display_name": "Python 3",
   "language": "python",
   "name": "python3"
  },
  "language_info": {
   "codemirror_mode": {
    "name": "ipython",
    "version": 3
   },
   "file_extension": ".py",
   "mimetype": "text/x-python",
   "name": "python",
   "nbconvert_exporter": "python",
   "pygments_lexer": "ipython3",
   "version": "3.11.1"
  }
 },
 "nbformat": 4,
 "nbformat_minor": 2
}
