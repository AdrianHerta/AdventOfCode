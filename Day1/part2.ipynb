{
 "cells": [
  {
   "cell_type": "code",
   "execution_count": 16,
   "metadata": {},
   "outputs": [],
   "source": [
    "with open('./input.txt') as f:\n",
    "    lines = f.readlines()"
   ]
  },
  {
   "cell_type": "code",
   "execution_count": 7,
   "metadata": {},
   "outputs": [],
   "source": [
    "spelledDigits = {'one': '1', 'two': '2', 'three': '3', 'four': '4',\n",
    "                 'five': '5', 'six': '6', 'seven': '7', 'eight': '8', 'nine': '9'}"
   ]
  },
  {
   "cell_type": "code",
   "execution_count": 18,
   "metadata": {},
   "outputs": [
    {
     "data": {
      "text/plain": [
       "[['one', 'three', '3'],\n",
       " ['7', 'one', 'eight', '7', '8'],\n",
       " ['5', '7'],\n",
       " ['3', 'two', 'three'],\n",
       " ['9', 'six', '9', 'one', 'nine']]"
      ]
     },
     "execution_count": 18,
     "metadata": {},
     "output_type": "execute_result"
    }
   ],
   "source": [
    "import re\n",
    "\n",
    "numbersInLines = [re.findall(r'(?=(one|two|three|four|five|six|seven|eight|nine|\\d))', line) for line in lines]\n",
    "numbersInLines[:5]"
   ]
  },
  {
   "cell_type": "code",
   "execution_count": 20,
   "metadata": {},
   "outputs": [
    {
     "data": {
      "text/plain": [
       "[['1', '3', '3'],\n",
       " ['7', '1', '8', '7', '8'],\n",
       " ['5', '7'],\n",
       " ['3', '2', '3'],\n",
       " ['9', '6', '9', '1', '9']]"
      ]
     },
     "execution_count": 20,
     "metadata": {},
     "output_type": "execute_result"
    }
   ],
   "source": [
    "digitsPerLine = []\n",
    "for line in numbersInLines:\n",
    "\tdigitsPerLine.append(list(map(lambda n: spelledDigits[n] if not n.isdigit() else n, line)))\n",
    "digitsPerLine[:5]"
   ]
  },
  {
   "cell_type": "code",
   "execution_count": 21,
   "metadata": {},
   "outputs": [
    {
     "data": {
      "text/plain": [
       "[13, 78, 57, 33, 99]"
      ]
     },
     "execution_count": 21,
     "metadata": {},
     "output_type": "execute_result"
    }
   ],
   "source": [
    "values = [int(digits[0] + digits[-1]) for digits in digitsPerLine]\n",
    "values[:5]"
   ]
  },
  {
   "cell_type": "code",
   "execution_count": 22,
   "metadata": {},
   "outputs": [
    {
     "data": {
      "text/plain": [
       "55093"
      ]
     },
     "execution_count": 22,
     "metadata": {},
     "output_type": "execute_result"
    }
   ],
   "source": [
    "totalSum = sum(values)\n",
    "totalSum"
   ]
  }
 ],
 "metadata": {
  "kernelspec": {
   "display_name": "Python 3",
   "language": "python",
   "name": "python3"
  },
  "language_info": {
   "codemirror_mode": {
    "name": "ipython",
    "version": 3
   },
   "file_extension": ".py",
   "mimetype": "text/x-python",
   "name": "python",
   "nbconvert_exporter": "python",
   "pygments_lexer": "ipython3",
   "version": "3.11.1"
  }
 },
 "nbformat": 4,
 "nbformat_minor": 2
}
